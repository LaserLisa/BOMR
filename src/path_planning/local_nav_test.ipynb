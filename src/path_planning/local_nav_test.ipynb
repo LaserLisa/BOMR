{
 "cells": [
  {
   "cell_type": "code",
   "execution_count": 1,
   "metadata": {},
   "outputs": [],
   "source": [
    "import tdmclient.notebook\n",
    "await tdmclient.notebook.start()"
   ]
  },
  {
   "cell_type": "code",
   "execution_count": 2,
   "metadata": {},
   "outputs": [
    {
     "name": "stdout",
     "output_type": "stream",
     "text": [
      "id:         aa24ac7a-325b-4e3c-b43c-6e53947c2376\n",
      "group id:   326a3569-fb02-4274-b780-bff2e9fe874f\n",
      "product id: 8 (Thymio II)\n",
      "name:       Thymio 308\n",
      "status:     3 (busy)\n",
      "cap:        7\n",
      "firmware:   14\n",
      "\n"
     ]
    }
   ],
   "source": [
    "!python -m tdmclient list"
   ]
  },
  {
   "cell_type": "code",
   "execution_count": 3,
   "metadata": {},
   "outputs": [],
   "source": [
    "from tdmclient import ClientAsync, aw\n",
    "import time\n",
    "import math\n",
    "import numpy as np"
   ]
  },
  {
   "cell_type": "code",
   "execution_count": 5,
   "metadata": {},
   "outputs": [],
   "source": [
    "@tdmclient.notebook.sync_var \n",
    "def ground_sensor():\n",
    "    global prox_ground_reflected\n",
    "    return prox_ground_reflected\n",
    "\n",
    "@tdmclient.notebook.sync_var \n",
    "def horiz_sensor():\n",
    "    global prox_horizontal\n",
    "    return prox_horizontal\n",
    "\n",
    "@tdmclient.notebook.sync_var \n",
    "def print_sensor_values(sensor_func, print_duration=3, delta_time=0.5):\n",
    "    \"\"\"\n",
    "    While the end time has not been reached, print the sensor values every delta_time seconds\n",
    "    \"\"\"\n",
    "    \n",
    "    t_end = time.time()+print_duration\n",
    "\n",
    "    while time.time() < t_end:\n",
    "        time.sleep(delta_time)\n",
    "        print(sensor_func())"
   ]
  },
  {
   "cell_type": "code",
   "execution_count": 6,
   "metadata": {},
   "outputs": [
    {
     "name": "stdout",
     "output_type": "stream",
     "text": [
      "[2530, 4717, 4378, 3313, 0, 0, 0]\n",
      "[2535, 4714, 4378, 3314, 0, 0, 0]\n",
      "[2529, 4714, 4375, 3312, 0, 0, 0]\n",
      "[2525, 4715, 4375, 3308, 0, 0, 0]\n",
      "[2528, 4714, 4380, 3309, 0, 0, 0]\n",
      "[2526, 4714, 4377, 3309, 0, 0, 0]\n"
     ]
    }
   ],
   "source": [
    "print_sensor_values(horiz_sensor)"
   ]
  },
  {
   "cell_type": "code",
   "execution_count": null,
   "metadata": {},
   "outputs": [],
   "source": [
    "%%run_python\n",
    "\n",
    "# Constants at the start of the program\n",
    "state = 1                     # state of the navigation: \"global\"=1 or \"local\"=0\n",
    "obst = [0, 0, 0, 0, 0]               # measurements of the front proximity sensors, not taking into account the back sensors\n",
    "motor_speed = [0, 0]                 # motor speed of the robot [left, right]\n",
    "sensor_scale = 200   # scale of the proximity sensors\n",
    "obstThrL = 10        # low obstacle threshold to switch state local->global (equivalent to 2000)\n",
    "obstThrH = 20        # high obstacle threshold to switch state global->local (equivalent to 4000)\n",
    "obstSpeedGain = 5    # /100 (actual gain: 5/100=0.05)\n",
    "initial_speed = 50  # initial speed of the robot\n",
    "is_goal_reached = False   # flag to check if the goal is reached\n",
    "max_speed = 500           # maximum speed of the robot for safety\n",
    "\n",
    "w_l = [20,  10, -10, -10, -20] # weights for the left motor\n",
    "w_r = [-20, -10, -10,  10,  20] # weights for the right motor\n",
    "\n",
    "\n",
    "@onevent\n",
    "def prox():\n",
    "    global prox_horizontal, state, obst, w_l, w_r, motor_left_target, motor_right_target, sensor_scale, obstThrL, obstThrH, initial_speed, max_speed\n",
    "\n",
    "    # Get the measurements from the proximity sensors\n",
    "    obst = [prox_horizontal[0] // sensor_scale, prox_horizontal[1] // sensor_scale, prox_horizontal[2] // sensor_scale, prox_horizontal[3] // sensor_scale, prox_horizontal[4] // sensor_scale]\n",
    "\n",
    "    # check if the state should be switched\n",
    "    if state == 0:\n",
    "        if obst[0] < obstThrL and obst[1] < obstThrL and obst[2] < obstThrL and obst[3] < obstThrL and obst[4] < obstThrL:\n",
    "            state = 1\n",
    "            print(\"Switching to global navigation: No detected obstacle anymore..\")\n",
    "    elif state == 1:\n",
    "        if obst[0] > obstThrH or obst[1] > obstThrH or obst[2] > obstThrH or obst[3] > obstThrH or obst[4] > obstThrH:\n",
    "            state = 0\n",
    "            print(\"Switching to local navigation: Obstacle detected..\")\n",
    "\n",
    "    # Navigation\n",
    "    if state == 1:\n",
    "        motor_left_target = initial_speed\n",
    "        motor_right_target = initial_speed\n",
    "\n",
    "    elif state == 0:\n",
    "        y = [0, 0]\n",
    "        for i in range(len(obst)):\n",
    "            y[0] = y[0] + w_l[i] * obst[i]\n",
    "            y[1] = y[1] + w_r[i] * obst[i]\n",
    "        print(\"Left motor speed: \", y[0])\n",
    "        print(\"Right motor speed: \", y[1])\n",
    "        motor_left_target = y[0]\n",
    "        motor_right_target = y[1]"
   ]
  },
  {
   "cell_type": "code",
   "execution_count": 15,
   "metadata": {},
   "outputs": [],
   "source": [
    "motor_left_target = 0\n",
    "motor_right_target = 0"
   ]
  },
  {
   "cell_type": "code",
   "execution_count": 12,
   "metadata": {},
   "outputs": [],
   "source": [
    "await tdmclient.notebook.stop()"
   ]
  }
 ],
 "metadata": {
  "kernelspec": {
   "display_name": "base",
   "language": "python",
   "name": "python3"
  },
  "language_info": {
   "codemirror_mode": {
    "name": "ipython",
    "version": 3
   },
   "file_extension": ".py",
   "mimetype": "text/x-python",
   "name": "python",
   "nbconvert_exporter": "python",
   "pygments_lexer": "ipython3",
   "version": "3.12.4"
  }
 },
 "nbformat": 4,
 "nbformat_minor": 2
}
