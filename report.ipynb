{
 "cells": [
  {
   "cell_type": "markdown",
   "metadata": {},
   "source": [
    "# Report Basics of Mobile Robotics\n",
    "\n",
    "Report of Jean, Vadim, Sara and Lisa."
   ]
  },
  {
   "cell_type": "markdown",
   "metadata": {},
   "source": [
    "**Table of Contents:**\n",
    "1. [Introduction](#Introduction)\n",
    "2. [Vision](#Vision)\n",
    "3. [Global Path Planning](#Global-Path-Planning)\n",
    "4. [Localization with Kalman Filter](#Kalman-Filter)\n",
    "5. [Motor Control](#Motor-Control)\n",
    "6. [Local Obstacle Avoidance](#Local-Obstacle-Avoidance)\n",
    "7. [Putting it all together](#Putting-it-all-together)\n",
    "8. [Conclusion](#Conclusion)"
   ]
  },
  {
   "cell_type": "markdown",
   "metadata": {},
   "source": [
    "## Introduction\n",
    "\n",
    "<span style=\"color:red\">\n",
    "Describe our general project idea. Introduction to the environement and choices we made. General function of the main components.\n",
    "\n",
    "Structure of the code\n",
    "</span>"
   ]
  },
  {
   "cell_type": "markdown",
   "metadata": {},
   "source": [
    "## Vision\n",
    "\n",
    "<span style=\"color:red\">\n",
    "Code required to execute vision module independently. Don't describe the code but explain what is behind it (i.e. theory, algorithms, measurements, choice of parameters, etc.).\n",
    "\n",
    "CITE YOUR SOURCES\n",
    "</span>"
   ]
  },
  {
   "cell_type": "markdown",
   "metadata": {},
   "source": [
    "## Global Path Planning\n",
    "\n",
    "<span style=\"color:red\">\n",
    "Code required to execute vision module independently. Don't describe the code but explain what is behind it (i.e. theory, algorithms, measurements, choice of parameters, etc.).\n",
    "\n",
    "CITE YOUR SOURCES\n",
    "</span>"
   ]
  },
  {
   "cell_type": "markdown",
   "metadata": {},
   "source": [
    "## Kalman Filter\n",
    "\n",
    "<span style=\"color:red\">\n",
    "Code required to execute vision module independently. Don't describe the code but explain what is behind it (i.e. theory, algorithms, measurements, choice of parameters, etc.).\n",
    "\n",
    "CITE YOUR SOURCES\n",
    "</span>"
   ]
  },
  {
   "cell_type": "markdown",
   "metadata": {},
   "source": [
    "## Motor Control\n",
    "\n",
    "<span style=\"color:red\">\n",
    "Code required to execute vision module independently. Don't describe the code but explain what is behind it (i.e. theory, algorithms, measurements, choice of parameters, etc.).\n",
    "\n",
    "CITE YOUR SOURCES\n",
    "</span>"
   ]
  },
  {
   "cell_type": "markdown",
   "metadata": {},
   "source": [
    "## Local Obstacle Avoidance\n",
    "\n",
    "<span style=\"color:red\">\n",
    "Code required to execute vision module independently. Don't describe the code but explain what is behind it (i.e. theory, algorithms, measurements, choice of parameters, etc.).\n",
    "\n",
    "CITE YOUR SOURCES\n",
    "</span>"
   ]
  },
  {
   "cell_type": "markdown",
   "metadata": {},
   "source": [
    "## Putting it all together\n",
    "\n",
    "<span style=\"color:red\">\n",
    "A section which is used to run the overall project and where we can see the path chosen, where the system believes the robot is along the path before and after filtering etc… \n",
    "\n",
    "REFERENCE OT THE MAIN FILE.\n",
    "</span>"
   ]
  },
  {
   "cell_type": "markdown",
   "metadata": {},
   "source": [
    "## Conclusion\n",
    "\n",
    "<span style=\"color:red\">\n",
    "What we learned, what we would do differently, what we would like to add, etc.\n",
    "</span>"
   ]
  }
 ],
 "metadata": {
  "language_info": {
   "name": "python"
  }
 },
 "nbformat": 4,
 "nbformat_minor": 2
}
